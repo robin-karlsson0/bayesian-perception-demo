{
 "cells": [
  {
   "cell_type": "code",
   "execution_count": null,
   "metadata": {},
   "outputs": [],
   "source": [
    "import numpy as np\n",
    "from scipy.special import expit\n",
    "import matplotlib.pyplot as plt\n",
    "\n",
    "np.random.seed(seed=0)"
   ]
  },
  {
   "cell_type": "markdown",
   "metadata": {},
   "source": [
    "# Data\n",
    "\n",
    "Linearly separable dataset consisting of datapoints generated from two Gaussian distributions."
   ]
  },
  {
   "cell_type": "code",
   "execution_count": null,
   "metadata": {},
   "outputs": [],
   "source": [
    "mean_1 = [-5, 2]\n",
    "cov_1 = [[1,0.5],[0.5,3]]\n",
    "gaussian_1 = np.random.multivariate_normal(mean_1, cov_1, 50)\n",
    "\n",
    "mean_2 = [5, -2]\n",
    "cov_2 = [[1,0.5],[0.5,3]]\n",
    "gaussian_2 = np.random.multivariate_normal(mean_2, cov_2, 50)\n",
    "\n",
    "plt.scatter(gaussian_1[:,0], gaussian_1[:,1])\n",
    "plt.scatter(gaussian_2[:,0], gaussian_2[:,1])\n",
    "plt.xlim(-10,10)\n",
    "plt.ylim(-10,10)\n",
    "plt.gca().set_aspect('equal', adjustable='box')\n",
    "plt.show()"
   ]
  },
  {
   "cell_type": "markdown",
   "metadata": {},
   "source": [
    "### Sort data into labeled dataset\n",
    "\n",
    "dataset[0,:] -> input vector of index 0\n",
    "\n",
    "dataset[:,1] -> x_1\n",
    "\n",
    "dataset[:,2] -> x_2"
   ]
  },
  {
   "cell_type": "code",
   "execution_count": null,
   "metadata": {},
   "outputs": [],
   "source": [
    "data_1 = np.zeros((gaussian_1.shape[0], 3))\n",
    "data_1[:,0:2] = gaussian_1\n",
    "\n",
    "data_2 = np.ones((gaussian_2.shape[0], 3))\n",
    "data_2[:,0:2] = gaussian_2\n",
    "\n",
    "dataset = np.vstack((data_1, data_2))\n",
    "dataset = np.random.permutation(dataset)\n",
    "\n",
    "N = dataset.shape[0]"
   ]
  },
  {
   "cell_type": "markdown",
   "metadata": {},
   "source": [
    "### Fixed bias vectors"
   ]
  },
  {
   "cell_type": "code",
   "execution_count": null,
   "metadata": {},
   "outputs": [],
   "source": [
    "phis = np.zeros((6, N))\n",
    "phis[0,:] = dataset[:,0]                 # x_1\n",
    "phis[1,:] = dataset[:,0]**2              # x_1^2\n",
    "phis[2,:] = dataset[:,1]                 # x_2\n",
    "phis[3,:] = dataset[:,1]**2              # x_2^2\n",
    "phis[4,:] = dataset[:,0] * dataset[:,1]  # x_1 * x_2\n",
    "phis[5,:] = 1                            # bias\n",
    "\n",
    "D = phis.shape[0]\n",
    "\n",
    "ts = np.zeros((1,N))\n",
    "ts[0,:] = dataset[:,2]"
   ]
  },
  {
   "cell_type": "code",
   "execution_count": null,
   "metadata": {},
   "outputs": [],
   "source": [
    "print(phis.shape)\n",
    "print(D)\n",
    "print(ts.shape)"
   ]
  },
  {
   "cell_type": "markdown",
   "metadata": {},
   "source": [
    "# Initialize variables"
   ]
  },
  {
   "cell_type": "code",
   "execution_count": null,
   "metadata": {},
   "outputs": [],
   "source": []
  },
  {
   "cell_type": "markdown",
   "metadata": {},
   "source": [
    "# What is this local variational inference functional really?"
   ]
  },
  {
   "cell_type": "code",
   "execution_count": null,
   "metadata": {},
   "outputs": [],
   "source": [
    "def lambda_func(xi):\n",
    "    return (expit(xi) - 0.5) / (2*xi + 1e-24)"
   ]
  },
  {
   "cell_type": "markdown",
   "metadata": {},
   "source": [
    "# Expectations"
   ]
  },
  {
   "cell_type": "code",
   "execution_count": null,
   "metadata": {},
   "outputs": [],
   "source": [
    "def gamma_expectation(a_N, b_N):\n",
    "    return a_N / b_N\n",
    "\n",
    "#def gaussian_quadratic_expectation(mu_N, sigma_N):\n",
    "#    #return sigma_N + np.matmul(mu_N, mu_N.T)\n",
    "#    return sigma_N + np.matmul(mu_N.T, mu_N)\n",
    "\n",
    "def gaussian_quadratic_expectation_wrt_w(mu_N):\n",
    "    return np.matmul(mu_N.T, mu_N)"
   ]
  },
  {
   "cell_type": "markdown",
   "metadata": {},
   "source": [
    "# Maximization (re-estimation) equations"
   ]
  },
  {
   "cell_type": "code",
   "execution_count": null,
   "metadata": {},
   "outputs": [],
   "source": [
    "#######################################################\n",
    "#  Distribution 'q(w) = Gaussian(w | mu_N, sigma_N)'\n",
    "#######################################################\n",
    "\n",
    "def maximization_mu(phis, ts, sigma_N):\n",
    "    \n",
    "    # Vector container for summing individual samples\n",
    "    sample_vec_sum = np.zeros((phis.shape[0], 1))\n",
    "    \n",
    "    # Compute and sum each sample individually (TODO: vectorization)\n",
    "    for i in range(phis.shape[1]):\n",
    "        \n",
    "        # Vectors for sample 'i'\n",
    "        phi_i = phis[:,i:i+1]  # [D,1]\n",
    "        t_i = ts[:,i].item()   # scalar\n",
    "        \n",
    "        sample_vec_sum += (t_i - 0.5) * phi_i\n",
    "    \n",
    "    mu_N = np.matmul(sigma_N, sample_vec_sum)\n",
    "    \n",
    "    return mu_N\n",
    "\n",
    "def maximization_sigma_inv(expectation_alpha, xis, phis):\n",
    "    \n",
    "    # Vector container for summing individual samples\n",
    "    sample_vec_sum = np.zeros((D,D))\n",
    "    \n",
    "    # Compute and sum each sample individually (TODO: vectorization)\n",
    "    for i in range(phis.shape[1]):\n",
    "        \n",
    "        # Vectors for sample 'i'\n",
    "        phi_i = phis[:,i:i+1]   # [D,1]\n",
    "        xi_i = xis[:,i].item()  # scalar\n",
    "        \n",
    "        sample_vec_sum += lambda_func(xi_i) * np.matmul(phi_i, phi_i.T)\n",
    "        \n",
    "    sigma_inv = expectation_alpha * np.eye(D) + 2.0 * sample_vec_sum\n",
    "\n",
    "    return sigma_inv\n",
    "\n",
    "\n",
    "####################################################\n",
    "#  Distribution 'q(alpha) = Gam(alpha | a_N, b_N)  #\n",
    "####################################################\n",
    "\n",
    "def maximization_an(a_0, D):\n",
    "    return a_0 + D\n",
    "\n",
    "def maximization_bn(b_0, expectation_quadratic_w):\n",
    "    return b_0 + 0.5 * expectation_quadratic_w\n",
    "\n",
    "\n",
    "###############\n",
    "#  Xi update\n",
    "###############\n",
    "\n",
    "def xi_update(phi, mu_N, sigma_N):\n",
    "    # xi = phi.T * (sigma_N + mu_N * mu_N.T) * phi\n",
    "    A = sigma_N + np.matmul(mu_N, mu_N.T)\n",
    "    xi = np.matmul(np.matmul(phi.T, A), phi)\n",
    "    xi = np.sqrt(xi)\n",
    "    return xi\n",
    "\n",
    "def xis_update(phis, mu_N, sigma_N):\n",
    "    \n",
    "    N = phis.shape[1]\n",
    "    \n",
    "    # Vector container for storing updated 'xi' values\n",
    "    xis_new = np.zeros((1,N))\n",
    "    \n",
    "    # Compute each sample individually\n",
    "    for i in range(N):\n",
    "        \n",
    "        # Vector for sample 'i'\n",
    "        phi_i = phis[:,i:i+1]   # [D,1]\n",
    "        \n",
    "        xis_new[0,i] = xi_update(phi_i, mu_N, sigma_N)\n",
    "    \n",
    "    return xis_new\n"
   ]
  },
  {
   "cell_type": "markdown",
   "metadata": {},
   "source": [
    "# Expectation Maximization iteration"
   ]
  },
  {
   "cell_type": "code",
   "execution_count": null,
   "metadata": {},
   "outputs": [],
   "source": [
    "# Initialize variables\n",
    "\n",
    "# Hyperpriors for Gamma distribution\n",
    "a_0 = 1.0\n",
    "b_0 = 1.0\n",
    "\n",
    "a_N = a_0\n",
    "b_N = b_0\n",
    "\n",
    "#mu_N = 0.1*np.ones((D,1))\n",
    "mu_N = 0.01*np.random.random((D,1))\n",
    "#sigma_N = 0.1*np.ones((D,D))\n",
    "sigma_N = 0.01*np.random.random((D,D))\n",
    "\n",
    "# Sample-specific latent variables 'xi'\n",
    "xis = np.ones((1, N))\n",
    "\n",
    "old_vals = np.zeros(7)\n",
    "\n",
    "deltas = np.zeros((7,100))\n",
    "\n",
    "for iter_idx in range(100):\n",
    "    \n",
    "    # Expectation step\n",
    "    expectation_alpha = gamma_expectation(a_N, b_N)                             # scalar\n",
    "    expectation_quadratic_w_wrt_w = gaussian_quadratic_expectation_wrt_w(mu_N)  # scalar ?\n",
    "    \n",
    "    # Maximization step\n",
    "    a_N = maximization_an(a_0, D)                                               # scalar\n",
    "    b_N = maximization_bn(b_0, expectation_quadratic_w_wrt_w)                   # scalar\n",
    "    sigma_N_inv = maximization_sigma_inv(expectation_alpha, xis, phis)          # [D,D]\n",
    "    sigma_N = np.linalg.inv(sigma_N_inv)                                        # [D,D]\n",
    "    mu_N = maximization_mu(phis, ts, sigma_N)                                   # [D,1]\n",
    "    xis = xis_update(phis, mu_N, sigma_N)                                       # [1,N]\n",
    "    "
   ]
  },
  {
   "cell_type": "code",
   "execution_count": null,
   "metadata": {},
   "outputs": [],
   "source": []
  },
  {
   "cell_type": "code",
   "execution_count": null,
   "metadata": {},
   "outputs": [],
   "source": [
    "x = [0, 0]\n",
    "\n",
    "\n",
    "\n",
    "def predictive_posterior_prob(x, mu_n, sigma_N):\n",
    "    \n",
    "    phi_test = np.zeros((6,1))\n",
    "    phi_test[0,:] = x[0]\n",
    "    phi_test[1,:] = x[0]**2\n",
    "    phi_test[2,:] = x[1]\n",
    "    phi_test[3,:] = x[1]**2\n",
    "    phi_test[4,:] = x[0] * x[1]\n",
    "    phi_test[5,:] = 1\n",
    "\n",
    "    mu_a = np.matmul(mu_N.T, phi_test).item()\n",
    "\n",
    "    #rint(mu_a)\n",
    "\n",
    "    sigma_a_2 = np.matmul(np.matmul(phi_test.T, sigma_N), phi_test).item()\n",
    "\n",
    "    #rint(sigma_a_2)\n",
    "\n",
    "    kappa = np.power(1.0 + np.pi/8.0 * sigma_a_2,-0.5)\n",
    "\n",
    "    #rint(kappa)\n",
    "\n",
    "    p = expit(kappa*mu_a)\n",
    "    \n",
    "    #rint(p)\n",
    "    \n",
    "    return p\n",
    "\n",
    "    "
   ]
  },
  {
   "cell_type": "code",
   "execution_count": null,
   "metadata": {},
   "outputs": [],
   "source": [
    "x = np.arange(-10, 10, 0.1)\n",
    "y = np.arange(-10, 10, 0.1)\n",
    "\n",
    "xx, yy = np.meshgrid(x, y, sparse=False)\n",
    "\n",
    "p_array = np.zeros(xx.shape)\n",
    "\n",
    "for i in range(p_array.shape[0]):\n",
    "    for j in range(p_array.shape[1]):\n",
    "        \n",
    "        x = [xx[i,j], yy[i,j]]\n",
    "        \n",
    "        p_array[i,j] = predictive_posterior_prob(x, mu_N, sigma_N)\n",
    "        \n",
    "        "
   ]
  },
  {
   "cell_type": "code",
   "execution_count": null,
   "metadata": {},
   "outputs": [],
   "source": [
    "plt.figure(figsize=(10,10))\n",
    "plt.imshow(p_array, origin='lower')\n",
    "plt.show()\n",
    "plt.figure(figsize=(10,10))\n",
    "plt.scatter(gaussian_1[:,0], gaussian_1[:,1])\n",
    "plt.scatter(gaussian_2[:,0], gaussian_2[:,1])\n",
    "plt.xlim(-10,10)\n",
    "plt.ylim(-10,10)\n",
    "plt.gca().set_aspect('equal', adjustable='box')\n",
    "plt.show()"
   ]
  },
  {
   "cell_type": "code",
   "execution_count": null,
   "metadata": {},
   "outputs": [],
   "source": []
  }
 ],
 "metadata": {
  "kernelspec": {
   "display_name": "Python 3",
   "language": "python",
   "name": "python3"
  },
  "language_info": {
   "codemirror_mode": {
    "name": "ipython",
    "version": 3
   },
   "file_extension": ".py",
   "mimetype": "text/x-python",
   "name": "python",
   "nbconvert_exporter": "python",
   "pygments_lexer": "ipython3",
   "version": "3.7.3"
  }
 },
 "nbformat": 4,
 "nbformat_minor": 4
}
